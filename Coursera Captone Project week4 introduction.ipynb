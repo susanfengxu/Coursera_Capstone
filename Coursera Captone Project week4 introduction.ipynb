{
    "nbformat_minor": 1, 
    "cells": [
        {
            "execution_count": 2, 
            "cell_type": "code", 
            "metadata": {}, 
            "outputs": [], 
            "source": "from IPython.display import display, Image, SVG, Math, YouTubeVideo"
        }, 
        {
            "source": "# Easy Transition Between New York and Toronto", 
            "cell_type": "markdown", 
            "metadata": {
                "collapsed": true
            }
        }, 
        {
            "execution_count": 7, 
            "cell_type": "code", 
            "metadata": {}, 
            "outputs": [
                {
                    "execution_count": 7, 
                    "metadata": {}, 
                    "data": {
                        "text/html": "<img src=\"https://www.narcity.com/uploads/b887ddcab416c7eae708e20538f75b9534e76169.png_facebook.png\"/>", 
                        "text/plain": "<IPython.core.display.Image object>"
                    }, 
                    "output_type": "execute_result"
                }
            ], 
            "source": "Image(url='https://www.narcity.com/uploads/b887ddcab416c7eae708e20538f75b9534e76169.png_facebook.png')"
        }, 
        {
            "source": "## Introduction", 
            "cell_type": "markdown", 
            "metadata": {}
        }, 
        {
            "source": "Nowadays, the world is fast changing. Job changing, family changing, business changing can all result in relocation to a new city. Settling down family in a new city is not easy; while relocating or expanding new business has even more hurdles. When people move to a new city, people would feel more comfortable to live in a similar neighborhood as before. They could make friends easier with common interests. Corporates also tend to thrive with familiar customer accessibility.  Here, this report collects business location data and clustering algorithm to provide a comparison of business distribution across neighborhoods between two cities. We use New York and Toronto as an example to find out similar neighborhoods in each city and provide information of main business activities distinguishing this neighborhood. From this report, one can easily find a neighborhood that is similar between these two cities. You could make an easy decision to settle down a home or business in this area before you spent precious time to experience yourself. ", 
            "cell_type": "markdown", 
            "metadata": {}
        }, 
        {
            "source": " - Target audience\n >1. Job seeker to New York or Toronto\n >2. Relocate families to New York or Toronto\n >3. Business expansion/relocation between New York or Toronto", 
            "cell_type": "markdown", 
            "metadata": {}
        }, 
        {
            "execution_count": null, 
            "cell_type": "code", 
            "metadata": {}, 
            "outputs": [], 
            "source": ""
        }
    ], 
    "metadata": {
        "kernelspec": {
            "display_name": "Python 3.5", 
            "name": "python3", 
            "language": "python"
        }, 
        "language_info": {
            "mimetype": "text/x-python", 
            "nbconvert_exporter": "python", 
            "version": "3.5.5", 
            "name": "python", 
            "file_extension": ".py", 
            "pygments_lexer": "ipython3", 
            "codemirror_mode": {
                "version": 3, 
                "name": "ipython"
            }
        }
    }, 
    "nbformat": 4
}