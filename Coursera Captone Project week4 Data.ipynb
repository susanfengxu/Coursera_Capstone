{
    "nbformat_minor": 1, 
    "cells": [
        {
            "source": "# Easy Transition Between New York and Toronto", 
            "cell_type": "markdown", 
            "metadata": {
                "collapsed": true
            }
        }, 
        {
            "source": "## Data", 
            "cell_type": "markdown", 
            "metadata": {}
        }, 
        {
            "source": "### 1. Toronto neigborhood data \n> Postal codes, Boroughs, and Neighborhoods of Toronto were collected through webscraping at Wikipedia (https://en.wikipedia.org/wiki/List_of_postal_codes_of_Canada:_M)\n> More than one neighborhood can exist in one postal code area. These neighborhoods are conbined.\n> If a borough is not assigned neighborhood, then the neighborhood will be the same as the borough.", 
            "cell_type": "markdown", 
            "metadata": {}
        }, 
        {
            "source": "> Latitude and the longitude coordinates of each neighborhood were obtained from the Geocoder Python package instead: https://geocoder.readthedocs.io/index.html.", 
            "cell_type": "markdown", 
            "metadata": {}
        }, 
        {
            "source": "###  2. New York neighborhood data\n> New York has a total of 5 boroughs and 306 neighborhoods. The latitude and logitude coordinates of each neighborhood exists for free on the web. Here is the link to the dataset: https://geo.nyu.edu/catalog/nyu_2451_34572\n", 
            "cell_type": "markdown", 
            "metadata": {}
        }, 
        {
            "source": "", 
            "cell_type": "markdown", 
            "metadata": {}
        }
    ], 
    "metadata": {
        "kernelspec": {
            "display_name": "Python 3.5", 
            "name": "python3", 
            "language": "python"
        }, 
        "language_info": {
            "mimetype": "text/x-python", 
            "nbconvert_exporter": "python", 
            "version": "3.5.5", 
            "name": "python", 
            "file_extension": ".py", 
            "pygments_lexer": "ipython3", 
            "codemirror_mode": {
                "version": 3, 
                "name": "ipython"
            }
        }
    }, 
    "nbformat": 4
}